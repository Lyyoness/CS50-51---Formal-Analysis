{
 "cells": [
  {
   "cell_type": "markdown",
   "metadata": {},
   "source": [
    "## Section 1"
   ]
  },
  {
   "cell_type": "markdown",
   "metadata": {},
   "source": [
    "A: I do homework early.\n",
    "B: I will sleep better.\n",
    "    1. A -> B\n",
    "    2. -B v A\n",
    "    \n",
    "|A|B|A->B|-BvA| \n",
    "|---|---|---|---| \n",
    "|1|1|1|1| \n",
    "|1|0|0|1| \n",
    "|0|1|1|0| \n",
    "|0|0|1|1| \n",
    "\n",
    "**Not logically equivalent**, as they do not have the same truth value on every line.\n",
    "**Consistent**, as there is one line in which all the sentences are true at the same time.\n",
    "\n",
    "----------------------------------------------------------------------------------------------\n",
    "This is a simplyfied version using SL.\n",
    "\n",
    "A: There are squirrels in the tree.\n",
    "B: Squirrels in the tree are storing acorns.\n",
    "C: There are acorns in the tree.\n",
    "    1. A\n",
    "    2. B\n",
    "    3. -C -> -A\n",
    "    \n",
    "|A | B | C | A | B | -C -> -A|\n",
    "|---|---|---|---|---|---|\n",
    "|1 | 1 | 1 | 1 | 1 |    1|\n",
    "|1 | 1 | 0 | 1 | 1 |    0|\n",
    "|1 | 0 | 1 | 1 | 0 |    1|\n",
    "|1 | 0 | 0 | 1 | 0 |    0|\n",
    "|0 | 1 | 1 | 0 | 1 |    1|\n",
    "|0 | 1 | 0 | 0 | 1 |    1|\n",
    "|0 | 0 | 1 | 0 | 0 |    1|\n",
    "|0 | 0 | 0 | 0 | 0 |    1|\n",
    "\n",
    "**Not logically equivalent**, as they do not have the same truth value on every line.\n",
    "**Consistent**, as there is one line in which all the sentences are true at the same time."
   ]
  },
  {
   "cell_type": "markdown",
   "metadata": {},
   "source": [
    "## Section 2"
   ]
  },
  {
   "cell_type": "markdown",
   "metadata": {},
   "source": [
    "A: Chen loves living in SF.\n",
    "B: Chen enjoys Giants game.\n",
    "C: Chen loves baseball.\n",
    "    1. A & (C -> B)\n",
    "    Negate: -A v (C & -B)\n",
    "        \n",
    "        Chen does not love living in San Francisco or he does enjoy Giants games and not loves baseball.\n",
    "-------------------------------------------------------------------------------------------------------------\n",
    "A: To be.\n",
    "    1. A v -A\n",
    "    Negate: -A & -(-A)\n",
    "    \n",
    "        Not to be and to be.\n",
    "-------------------------------------------------------------------------------------------------------------\n",
    "A: Sarah enjoys watching movies.\n",
    "B: Sarah is missing out on some great entertainment.\n",
    "C: Sarah has not seen a good movie in the past.\n",
    "    1. -A -> (B & C)\n",
    "    Negate: -A & (-B v -C)\n",
    "    \n",
    "        Sarah does not enjoy watching movies and she is not missing out on some great entertainment or she has not seen a good movie in the past."
   ]
  },
  {
   "cell_type": "markdown",
   "metadata": {},
   "source": [
    "## Section 3"
   ]
  },
  {
   "cell_type": "markdown",
   "metadata": {},
   "source": [
    "A: John eats burritos.\n",
    "B: Burritos are on the menu.\n",
    "\n",
    "If B then A. Not B. Therefore, not A.\n",
    "\n",
    "**Modus tollen - denying the antecequent**\n",
    "**Correctly used:** If B then A. Not A. Therefore, not B.\n",
    "\n",
    "--------------------------------------------------------------\n",
    "A: I enjoy Beethoven.\n",
    "not B: I have a bad taste. \n",
    "C: I carefully listen to the music.\n",
    "B: I have a good taste.\n",
    "\n",
    "A or not B. If not A, then not C. B. Therefore not C.   \n",
    "\n",
    "**Dilemma - Form of disjunctive syllogism.**\n",
    "**Correctly used:** A or not B. If not A, then not C. If B then C. Therefore not C."
   ]
  },
  {
   "cell_type": "markdown",
   "metadata": {},
   "source": [
    "## Section 4"
   ]
  },
  {
   "cell_type": "code",
   "execution_count": 3,
   "metadata": {
    "collapsed": false
   },
   "outputs": [
    {
     "name": "stdout",
     "output_type": "stream",
     "text": [
      "True\n",
      "False\n",
      "True\n",
      "False\n"
     ]
    }
   ],
   "source": [
    "def ifonlyif(a,b):\n",
    "    return a == b\n",
    "    \n",
    "def conditional(a,b):\n",
    "    return not (a == True and b == False)\n",
    "    \n",
    "# testcases\n",
    "x = True\n",
    "y = True\n",
    "z = True\n",
    "\n",
    "#(x and y) <--> z \n",
    "print ifonlyif((x and y),z)\n",
    "\n",
    "#(x --> y) <--> not z\n",
    "print ifonlyif(conditional(x,y),(not z))\n",
    "\n",
    "#--------------------------------------------------------------------------------------\n",
    "\n",
    "def nand(a,b):\n",
    "    return not a or not b\n",
    "\n",
    "# if not (x and y) then z\n",
    "print conditional(nand(x, y),z)\n",
    "\n",
    "# (x and y) <--> not (x and y)\n",
    "print ifonlyif((x and y),nand(x,y))"
   ]
  }
 ],
 "metadata": {
  "anaconda-cloud": {},
  "kernelspec": {
   "display_name": "Python [Root]",
   "language": "python",
   "name": "Python [Root]"
  },
  "language_info": {
   "codemirror_mode": {
    "name": "ipython",
    "version": 2
   },
   "file_extension": ".py",
   "mimetype": "text/x-python",
   "name": "python",
   "nbconvert_exporter": "python",
   "pygments_lexer": "ipython2",
   "version": "2.7.12"
  }
 },
 "nbformat": 4,
 "nbformat_minor": 0
}
