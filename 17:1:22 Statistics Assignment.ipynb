{
 "cells": [
  {
   "cell_type": "markdown",
   "metadata": {},
   "source": [
    "## Question 1\n",
    "\n",
    "#### a) very bad\n",
    ">This is most likely the worst way out of all three to determine the sample. It allows for people to be picked multiple times within one sample and additionally there might be a sampling bias depending on when and where these people are selected (e.g. if I do this on a weekday in close to proximity to a school, I'm more likely to have disproportionate amounts of young people).\n",
    "\n",
    "#### b) bad\n",
    ">As SSNs are handed out by date of birth, picking the first 100 in an ordered list would result in a poorly representative sample of the population with it being either only the oldest or youngest people in the town (depending on ascending or descending order).\n",
    "In addition to this, SSNs start with a state identification. Therefore, if a group of people from another state had moved into this hypothetical town, they could make up a disproportionate percentage of the population sample.\n",
    "\n",
    "#### c) good\n",
    ">This is perhaps the best way to select the sample, as it ensures there will be no double picks and the cards have a good chance of getting shuffled around by the wind as they fall from the three story building. Given that the card set is randomly shuffled before throwing them, this method would be improved even further."
   ]
  },
  {
   "cell_type": "markdown",
   "metadata": {},
   "source": [
    "## Question 2\n",
    "\n",
    "#### a) Without calculator\n",
    ">First we gather the people of our town together on the towns square, where the mayor will introduce to them their epic quest of finding a truly random sample. The smartest people will spend weeks planning and tinkering to find the perfect solution to this problem and eventually decide on a solution. They will select a party of a dozen strong men, which will travel to the eastern Calcoolus mountains, where they begin digging mines until they have found exactly 10.000 diamonds. A jewel smith will then engrave one number from 1 to 10.000 on each diamond, making sure not to repeat or miss any. Every citizen of the town will, upon the parties return to town, recieve one such diamond. Then the major will write down the numbers from 1 to 10.000 on identical pieces of paper, once more ensuring not to miss or repeat and numbers. These pieces will then be shuffled in a large, metal container and the major will pick 100 papers without replacement. The numbers on these pieces will correspond to the ones on the diamonds people recieved and after doing so 100 times, the major will have selected a perfectly random sample from his folk.\n",
    "\n",
    "#### b) With calculator\n",
    ">First we gather the people of our town together on the towns square, where the mayor will introduce to them their epic quest of finding a truly random sample. The smartest people will spend weeks planning and tinkering to find the perfect solution to this problem and eventually decide on a solution. They will select a party of a dozen strong men, which will travel to the western Intehgrahl Forges, where they begin crafting calculators until they have exactly 10.000 of them. A smith will then engrave one number from 1 to 10.000 on each calculator, making sure not to repeat or miss any. Every citizen of the town will, upon the parties return to town, recieve one such calculator. Then the major will write down the numbers from 1 to 10.000 on identical pieces of paper, once more ensuring not to miss or repeat and numbers. These pieces will then be shuffled in a large, metal container and the major will pick 100 papers without replacement. The numbers on these pieces will correspond to the ones on the calculators people recieved and after doing so 100 times, the major will have selected a perfectly random sample from his folk."
   ]
  },
  {
   "cell_type": "markdown",
   "metadata": {},
   "source": [
    "## Question 3\n",
    "\n",
    "__a)__\n",
    ">For N(100,2) what percentage lies between 97 and 105?\n",
    "\n",
    "* __Analytical approach__\n",
    "\n",
    "Knowing the properties of a normal distribution and how many percent each standard deviation represents we can approximate the amount of happy people that lie between 97 to 105 given the standard deviation.\n",
    "\n",
    "\\begin{align}\n",
    "\\frac{(x - mean)}{\\sigma} = \\text{num of stdev}\n",
    "\\end{align}\n",
    "<br></br>\n",
    "<center>SD to the right of the mean:</center>   \n",
    "   \n",
    "\\begin{align}\n",
    "\\frac{(105-100)}{2} = {2.5} \\\\\n",
    "\\text{2.5 SD = 49.4%} \\\n",
    "\\end{align} \n",
    "<br></br>\n",
    "<center>SD to the left of the mean:</center>\n",
    "\n",
    "\\begin{align}\n",
    "\\frac{(97-100)}{2} = {-1.5} \\\\\n",
    "\\text{-1.5 SD = 43.3%} \\\n",
    "\\end{align}\n",
    "<br></br>\n",
    "<center>Percentage of happy people between \\$97 and $105:</center>\n",
    "\n",
    "\\begin{align}\n",
    "\\text{49.4% + 43.3% = 92.7%}\n",
    "\\end{align}\n",
    "\n",
    "__b)__\n",
    ">Given N(100,σ) find the value of σ for which less then 1% falls outside of the range 97-105.\n",
    "\n",
    "* __Simulation approach__\n",
    "\n",
    "The function perf_stdev() iterates over gradually decreasing values of standard deviations to find the closest to cover at least 99%. For this I assume that both z-scores have to be above the 99% threshold."
   ]
  },
  {
   "cell_type": "code",
   "execution_count": 12,
   "metadata": {
    "collapsed": false
   },
   "outputs": [
    {
     "name": "stdout",
     "output_type": "stream",
     "text": [
      "Standard Deviation: 1.29\n"
     ]
    }
   ],
   "source": [
    "desired_z_score = 2.325  #looked up in Zscore table\n",
    "sd = 2.0\n",
    "\n",
    "while True:\n",
    "    \n",
    "    sd -= 0.01\n",
    "    z_right = (105-100) / sd    \n",
    "    z_left = abs(97-100) / sd\n",
    "    \n",
    "    \n",
    "    if ((z_right and z_left) > desired_z_score):\n",
    "        break\n",
    "\n",
    "        \n",
    "print \"Standard Deviation: \" + str(sd)"
   ]
  },
  {
   "cell_type": "markdown",
   "metadata": {},
   "source": [
    "## Question 4\n",
    "\n",
    "* __Analytical approach__\n",
    "\n",
    "To calculate the expected value of this game, we multiply the probability of winning with the potential winning and substract the probaility of losing multiplied by the amount lost per bet.\n",
    "\n",
    "<center>Expected value:</center>\n",
    "\\begin{align}\n",
    "\\text{E[x]=}\\sum_{i=1}^\\infty\\ x_i p_i\\\n",
    "\\end{align}\n",
    "\n",
    "<center>Expected value of Martingale Doubling Bet:</center>\n",
    "<br></br>\n",
    "\n",
    "\\begin{align}\n",
    "\\sum{(1*0.5 + 1*0.5^2 + 1*0.5^3 + 1*0.5^4 + 1*0.5^5 + 1*0.5^6 + (-63)*0.5^6)}\n",
    "\\end{align}\n",
    "\n",
    "<br></br>\n",
    "\\begin{align}\n",
    "\\sum{(0.5 + 0.25 + 0.125 + 0.0625 + 0.03125 + 0.015625 + (-0.984375))}\n",
    "\\end{align}\n",
    "<br></br>\n",
    "\\begin{align}\n",
    "\\text{E[x]=0}\n",
    "\\end{align}"
   ]
  },
  {
   "cell_type": "markdown",
   "metadata": {},
   "source": [
    "## Question 5\n",
    "\n",
    "* __Simulation approach__"
   ]
  },
  {
   "cell_type": "code",
   "execution_count": 13,
   "metadata": {
    "collapsed": false,
    "scrolled": true
   },
   "outputs": [
    {
     "name": "stdout",
     "output_type": "stream",
     "text": [
      "How many trials would you like to run? 100000\n",
      "Average percentage of streaks: 24.986%\n"
     ]
    }
   ],
   "source": [
    "import random\n",
    "\n",
    "trial_num = input(\"How many trials would you like to run? \")\n",
    "total_streak = 0.0\n",
    "\n",
    "\n",
    "def game():\n",
    "    streak = 0\n",
    "    for _ in range (20):\n",
    "        if random.random() > 0.5:\n",
    "            streak += 1\n",
    "            if streak == 5:\n",
    "                return True\n",
    "        else:\n",
    "            streak = 0\n",
    "    return False\n",
    "\n",
    "\n",
    "for _ in range (trial_num):\n",
    "    \n",
    "    if game():\n",
    "        total_streak += 1\n",
    "    \n",
    "    \n",
    "print \"Average percentage of streaks: \" + str(total_streak/trial_num*100) + \"%\""
   ]
  }
 ],
 "metadata": {
  "anaconda-cloud": {},
  "kernelspec": {
   "display_name": "Python [default]",
   "language": "python",
   "name": "python2"
  },
  "language_info": {
   "codemirror_mode": {
    "name": "ipython",
    "version": 2
   },
   "file_extension": ".py",
   "mimetype": "text/x-python",
   "name": "python",
   "nbconvert_exporter": "python",
   "pygments_lexer": "ipython2",
   "version": "2.7.12"
  }
 },
 "nbformat": 4,
 "nbformat_minor": 1
}
