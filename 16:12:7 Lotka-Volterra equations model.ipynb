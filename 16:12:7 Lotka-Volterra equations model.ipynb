{
 "cells": [
  {
   "cell_type": "code",
   "execution_count": 3,
   "metadata": {
    "collapsed": false,
    "scrolled": false
   },
   "outputs": [
    {
     "name": "stdout",
     "output_type": "stream",
     "text": [
      "Alpha: 0.66666666666666\n",
      "Beta: 1.33333333333333\n",
      "Gamma: 1\n",
      "Delta: 1\n",
      "Initial prey population: 900\n",
      "Initial predator population: 900\n",
      "Time step size: 0.1\n",
      "Number of time steps: 20\n"
     ]
    },
    {
     "name": "stderr",
     "output_type": "stream",
     "text": [
      "C:\\Users\\Michelle\\Anaconda2.1\\lib\\site-packages\\ipykernel\\__main__.py:19: VisibleDeprecationWarning: using a non-integer number instead of an integer will result in an error in the future\n"
     ]
    },
    {
     "data": {
      "image/png": "[encoded data removed]",
      "text/plain": [
       "<matplotlib.figure.Figure at 0x6fbc320>"
      ]
     },
     "metadata": {},
     "output_type": "display_data"
    },
    {
     "name": "stdout",
     "output_type": "stream",
     "text": [
      "Final prey: 0.0  | Final predators: 11051.3179023\n"
     ]
    }
   ],
   "source": [
    "import numpy as np\n",
    "import matplotlib.pyplot as plt\n",
    "%matplotlib inline\n",
    "\n",
    "#x'(t) = Alpha*x - Beta*x*y\n",
    "#y'(t) = Delta*x*y - Gamma*y\n",
    "\n",
    "#gets input for x0, y0, the parameter values and the time and time steps\n",
    "alpha, beta, gamma, delta = float(raw_input(\"Alpha: \")), float(raw_input(\"Beta: \")), float(raw_input(\"Gamma: \")), float(raw_input(\"Delta: \"))\n",
    "x_init, y_init, time, steps = float(raw_input(\"Initial prey population: \")), float(raw_input(\"Initial predator population: \")), float(raw_input(\"Time step size: \")), float(raw_input(\"Number of time steps: \"))\n",
    "\n",
    "def lotka_volterra(a,b,g,d,x,y,h,step):\n",
    "    #initializing x0 and y0\n",
    "    cur_x = x\n",
    "    cur_y = y\n",
    "    i = 0\n",
    "    #creates an array for storing x, y and time values\n",
    "    popul = np.zeros((step + 1, 3))\n",
    "    #initializes array at t=0\n",
    "    popul[0] = [x, y, 0]\n",
    "    #iterating over the equations for each time step\n",
    "    while i < step:\n",
    "        temp_x = cur_x + h*((a*cur_x) - (b*cur_x*cur_y))\n",
    "        temp_y = cur_y + h*((d*cur_x*cur_y) - (g*cur_y))\n",
    "        #checking for values below 0\n",
    "        if temp_x < 0:\n",
    "            cur_x = 0\n",
    "        else:\n",
    "            cur_x = temp_x\n",
    "        if temp_y < 0:\n",
    "            cur_y = 0\n",
    "        else:\n",
    "            cur_y = temp_y\n",
    "        i += 1\n",
    "        #and storing them in the population array\n",
    "        popul[i] = [cur_x, cur_y, i]\n",
    "    #plotting the array on a line plot\n",
    "    plt.plot(popul[:,2], popul[:,0], 'xr-', popul[:,2], popul[:,1], 'xb-')\n",
    "    plt.show()\n",
    "    \n",
    "    print \"Final prey:\", cur_x, \" | Final predators:\", cur_y\n",
    "    \n",
    "lotka_volterra(alpha, beta, gamma, delta, x_init, y_init, time, steps)"
   ]
  },
  {
   "cell_type": "markdown",
   "metadata": {
    "collapsed": true
   },
   "source": [
    "## Comparison and Contrast of Agent Based Modeling and Numerical Solution of the Lotka-Volterra equations\n",
    "\n",
    "#### Lotka-Volterra\n",
    "The Lotka-Volterra predation equations model the relationship between predatory and prey species using two differential equations. It computes the rate of change in prey by substracting prey deaths from births and the rate of change of predator population by substracting deaths from reproduction, which is dependet on the prey population. \n",
    "It can generate the same cyclical patern as an agent based model would and is highly sensitive to inital conditions.\n",
    "#### NetLogo's ABM\n",
    "Rather than focusing on the relation between certain aspects of the populations such as birth and death rates, the agent based model focuses on defining individuals' agent's behavior. The interactions of agents take place on a 2D or 3D grid rather than just numerically. Counterintuitively, simple ABMs can actually be approximated and set up with only limited background knowledge and are intuitive to handle. AMBs such as the NetLogo simulations can be used to model a larger variety of factors and species than the Lotka-Volterra equations, which are only applicable to predator-prey relations.\n",
    "\n",
    "#### Common and Contrasting factors\n",
    "While the numerical solution focuses on the relationships between the two populations, the ABM is based on the individual agents and the rules they follow, making these two fundamentally different approaches to the same problem. Both models can, however, produce similar outputs, are run over time and can be used to predict predator-prey interactions of a variety of different species. Both models are based on a set of assumptions and revisions were made to fit the model more accurately to real world observations."
   ]
  }
 ],
 "metadata": {
  "anaconda-cloud": {},
  "kernelspec": {
   "display_name": "Python [Root]",
   "language": "python",
   "name": "Python [Root]"
  },
  "language_info": {
   "codemirror_mode": {
    "name": "ipython",
    "version": 2
   },
   "file_extension": ".py",
   "mimetype": "text/x-python",
   "name": "python",
   "nbconvert_exporter": "python",
   "pygments_lexer": "ipython2",
   "version": "2.7.12"
  }
 },
 "nbformat": 4,
 "nbformat_minor": 0
}
