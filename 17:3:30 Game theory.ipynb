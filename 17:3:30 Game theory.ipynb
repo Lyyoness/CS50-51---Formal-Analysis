{
 "cells": [
  {
   "cell_type": "code",
   "execution_count": null,
   "metadata": {
    "collapsed": false
   },
   "outputs": [],
   "source": [
    "% matplotlib inline\n",
    "import numpy as np\n",
    "import matplotlib.pyplot as plt\n",
    "import math\n",
    "import random\n",
    "\n",
    "runtime = int(raw_input(\"Simulation runtime in weeks? \"))\n",
    "\n",
    "#counter keeps track of stores already selling GMOs\n",
    "counter = np.zeros((1, runtime+1))\n",
    "counter[0,0] = int(raw_input(\"Initial amount of GMO sellers? \"))\n",
    "\n",
    "t_type = int(raw_input(\"What kind of threshold? \\n 1-I set the threshold \\n 2-normal distribution \\n 3-logarithmic distribution \\n 4-random \\n\"))\n",
    "\n",
    "if t_type == 1:\n",
    "    print \"That's boring, try one of the distributions! \"\n",
    "    t_type = int(raw_input(\"What kind of threshold? \\n 1-But I want to set the threshold! \\n 2-normal distribution \\n 3-logarithmic distribution \\n 4-random \\n\"))\n",
    "    if t_type == 1:\n",
    "        print \"Really? I swear the distributions are cool! Try them. \"\n",
    "        t_type = int(raw_input(\"Here, I'll make it easier for you: \\n 1-NOT this one \\n 2-normal distribution \\n 3-logarithmic distribution \\n 4-random \\n\"))\n",
    "        if t_type == 1:\n",
    "            print \"Random distribution it is. Thanks for picking your thresholds with us! \"\n",
    "            t_type = 4\n",
    "\n",
    "if t_type == 2:\n",
    "    thresholds = np.random.normal(250, 170, size =(1,500))\n",
    "\n",
    "if t_type == 3:\n",
    "    log_type = int(raw_input(\"Would you like to model: \\n 1-an agressive market or \\n 2-a conservative market?\" ))\n",
    "    if log_type == 1:\n",
    "        thresholds = np.random.lognormal(3.7, 0.8, size=(1,500))\n",
    "    if log_type == 2:\n",
    "        thresholds = 500-np.random.lognormal(3.7, 0.8, size=(1,500))\n",
    "\n",
    "if t_type == 4:\n",
    "    thresholds = np.random.randint(501, size=(1,500))\n",
    "\n",
    "#iterates over stores' thresholds and changes their strategy\n",
    "for i in range (0, runtime):\n",
    "    for e in range (0, 500):\n",
    "        if counter[0,i] > thresholds[0,e]:\n",
    "            counter[0, i+1] += 1\n",
    "\n",
    "plt.plot(counter[0,:], color='c')\n",
    "plt.ylim((-10,510))\n",
    "plt.ylabel('Number of stores selling GMOs')\n",
    "plt.xlabel('Time in weeks')\n",
    "plt.show()"
   ]
  }
 ],
 "metadata": {
  "anaconda-cloud": {},
  "kernelspec": {
   "display_name": "Python [default]",
   "language": "python",
   "name": "python2"
  },
  "language_info": {
   "codemirror_mode": {
    "name": "ipython",
    "version": 2
   },
   "file_extension": ".py",
   "mimetype": "text/x-python",
   "name": "python",
   "nbconvert_exporter": "python",
   "pygments_lexer": "ipython2",
   "version": "2.7.12"
  }
 },
 "nbformat": 4,
 "nbformat_minor": 1
}
